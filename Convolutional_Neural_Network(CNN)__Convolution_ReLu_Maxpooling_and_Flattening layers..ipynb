{
 "cells": [
  {
   "cell_type": "markdown",
   "metadata": {},
   "source": [
    "# Convolutional Nueral Network(CNN) : Convolution, ReLu, Maxpooling and Flattening layers."
   ]
  },
  {
   "cell_type": "code",
   "execution_count": 235,
   "metadata": {},
   "outputs": [
    {
     "name": "stdout",
     "output_type": "stream",
     "text": [
      "Original image with horizontal edge.\n",
      "\n",
      "[[  1   1   1   1   1   1   1   1   1   1   1   1   1   1   1   1   1   1\n",
      "    1   1]\n",
      " [  1   1   1   1   1   1   1   1   1   1   1   1   1   1   1   1   1   1\n",
      "    1   1]\n",
      " [  1   1   1   1   1   1   1   1   1   1   1   1   1   1   1   1   1   1\n",
      "    1   1]\n",
      " [  1   1   1   1   1   1   1   1   1   1 200   1   1   1   1   1   1   1\n",
      "    1   1]\n",
      " [  1   1   1   1   1   1   1   1   1 200 200   1   1   1   1   1   1   1\n",
      "    1   1]\n",
      " [  1   1   1   1   1   1   1   1 200 200 200   1   1   1   1   1   1   1\n",
      "    1   1]\n",
      " [  1   1   1   1   1   1   1 200 200 200 200   1   1   1   1   1   1   1\n",
      "    1   1]\n",
      " [  1   1   1   1   1   1   1   1   1 200 200   1   1   1   1   1   1   1\n",
      "    1   1]\n",
      " [  1   1   1   1   1   1   1   1   1 200 200   1   1   1   1   1   1   1\n",
      "    1   1]\n",
      " [  1   1   1   1   1   1   1   1   1 200 200   1   1   1   1   1   1   1\n",
      "    1   1]\n",
      " [  1   1   1   1   1   1   1   1   1 200 200   1   1   1   1   1   1   1\n",
      "    1   1]\n",
      " [  1   1   1   1   1   1   1   1   1 200 200   1   1   1   1   1   1   1\n",
      "    1   1]\n",
      " [  1   1   1   1   1   1   1   1   1 200 200   1   1   1   1   1   1   1\n",
      "    1   1]\n",
      " [  1   1   1   1   1   1   1   1   1 200 200   1   1   1   1   1   1   1\n",
      "    1   1]\n",
      " [  1   1   1   1   1   1   1   1   1 200 200   1   1   1   1   1   1   1\n",
      "    1   1]\n",
      " [  1   1   1   1   1   1   1   1   1 200 200   1   1   1   1   1   1   1\n",
      "    1   1]\n",
      " [  1   1   1   1   1   1   1   1   1 200 200   1   1   1   1   1   1   1\n",
      "    1   1]\n",
      " [  1   1   1   1   1   1   1   1   1   1   1   1   1   1   1   1   1   1\n",
      "    1   1]\n",
      " [  1   1   1   1   1   1   1   1   1   1   1   1   1   1   1   1   1   1\n",
      "    1   1]\n",
      " [  1   1   1   1   1   1   1   1   1   1   1   1   1   1   1   1   1   1\n",
      "    1   1]]\n"
     ]
    }
   ],
   "source": [
    "horz_edge_array = np.array([[1,1,1,1,1,1,1,1,1,1,1,1,1,1,1,1,1,1,1,1],\n",
    "              [1,1,1,1,1,1,1,1,1,1,1,1,1,1,1,1,1,1,1,1],\n",
    "              [1,1,1,1,1,1,1,1,1,1,1,1,1,1,1,1,1,1,1,1],\n",
    "              [1,1,1,1,1,1,1,1,1,1,200,1,1,1,1,1,1,1,1,1],\n",
    "              [1,1,1,1,1,1,1,1,1,200,200,1,1,1,1,1,1,1,1,1],\n",
    "              [1,1,1,1,1,1,1,1,200,200,200,1,1,1,1,1,1,1,1,1],\n",
    "              [1,1,1,1,1,1,1,200,200,200,200,1,1,1,1,1,1,1,1,1],\n",
    "              [1,1,1,1,1,1,1,1,1,200,200,1,1,1,1,1,1,1,1,1],\n",
    "              [1,1,1,1,1,1,1,1,1,200,200,1,1,1,1,1,1,1,1,1],\n",
    "              [1,1,1,1,1,1,1,1,1,200,200,1,1,1,1,1,1,1,1,1],\n",
    "               [1,1,1,1,1,1,1,1,1,200,200,1,1,1,1,1,1,1,1,1],\n",
    "               [1,1,1,1,1,1,1,1,1,200,200,1,1,1,1,1,1,1,1,1],\n",
    "               [1,1,1,1,1,1,1,1,1,200,200,1,1,1,1,1,1,1,1,1],\n",
    "               [1,1,1,1,1,1,1,1,1,200,200,1,1,1,1,1,1,1,1,1],\n",
    "               [1,1,1,1,1,1,1,1,1,200,200,1,1,1,1,1,1,1,1,1],\n",
    "               [1,1,1,1,1,1,1,1,1,200,200,1,1,1,1,1,1,1,1,1],\n",
    "               [1,1,1,1,1,1,1,1,1,200,200,1,1,1,1,1,1,1,1,1],\n",
    "               [1,1,1,1,1,1,1,1,1,1,1,1,1,1,1,1,1,1,1,1],\n",
    "               [1,1,1,1,1,1,1,1,1,1,1,1,1,1,1,1,1,1,1,1],\n",
    "               [1,1,1,1,1,1,1,1,1,1,1,1,1,1,1,1,1,1,1,1]])\n",
    "\n",
    "\n",
    "print('Original image with horizontal edge.\\n')\n",
    "print(horz_edge_array)\n"
   ]
  },
  {
   "cell_type": "code",
   "execution_count": 236,
   "metadata": {},
   "outputs": [
    {
     "name": "stdout",
     "output_type": "stream",
     "text": [
      "The sobel horizontal edge filter\n",
      "\n",
      "[[-1  0  1]\n",
      " [-2  0  2]\n",
      " [-1  0  1]]\n"
     ]
    }
   ],
   "source": [
    "conv_mat_horiz = np.zeros([20, 20], dtype = int)\n",
    "\n",
    "sobel_horiz_edge_fil = np.array([[-1,0, 1],[-2,0, 2],[-1,0,1]])\n",
    "print('The sobel horizontal edge filter\\n')\n",
    "print(sobel_horiz_edge_fil)"
   ]
  },
  {
   "cell_type": "code",
   "execution_count": 237,
   "metadata": {},
   "outputs": [
    {
     "name": "stdout",
     "output_type": "stream",
     "text": [
      "Convolved array with edge filter.\n",
      "\n",
      "[[   0    0    0    0    0    0    0    0    0    0    0    0    0    0\n",
      "     0    0    0    0    0    0]\n",
      " [   0    0    0    0    0    0    0    0    0    0    0    0    0    0\n",
      "     0    0    0    0    0    0]\n",
      " [   0    0    0    0    0    0    0    0    0  199    0 -199    0    0\n",
      "     0    0    0    0    0    0]\n",
      " [   0    0    0    0    0    0    0    0  199  597 -199 -597    0    0\n",
      "     0    0    0    0    0    0]\n",
      " [   0    0    0    0    0    0    0  199  597  597 -597 -796    0    0\n",
      "     0    0    0    0    0    0]\n",
      " [   0    0    0    0    0    0  199  597  597  199 -796 -796    0    0\n",
      "     0    0    0    0    0    0]\n",
      " [   0    0    0    0    0    0  398  597  398  199 -796 -796    0    0\n",
      "     0    0    0    0    0    0]\n",
      " [   0    0    0    0    0    0  199  199  597  597 -796 -796    0    0\n",
      "     0    0    0    0    0    0]\n",
      " [   0    0    0    0    0    0    0    0  796  796 -796 -796    0    0\n",
      "     0    0    0    0    0    0]\n",
      " [   0    0    0    0    0    0    0    0  796  796 -796 -796    0    0\n",
      "     0    0    0    0    0    0]\n",
      " [   0    0    0    0    0    0    0    0  796  796 -796 -796    0    0\n",
      "     0    0    0    0    0    0]\n",
      " [   0    0    0    0    0    0    0    0  796  796 -796 -796    0    0\n",
      "     0    0    0    0    0    0]\n",
      " [   0    0    0    0    0    0    0    0  796  796 -796 -796    0    0\n",
      "     0    0    0    0    0    0]\n",
      " [   0    0    0    0    0    0    0    0  796  796 -796 -796    0    0\n",
      "     0    0    0    0    0    0]\n",
      " [   0    0    0    0    0    0    0    0  796  796 -796 -796    0    0\n",
      "     0    0    0    0    0    0]\n",
      " [   0    0    0    0    0    0    0    0  796  796 -796 -796    0    0\n",
      "     0    0    0    0    0    0]\n",
      " [   0    0    0    0    0    0    0    0  597  597 -597 -597    0    0\n",
      "     0    0    0    0    0    0]\n",
      " [   0    0    0    0    0    0    0    0  199  199 -199 -199    0    0\n",
      "     0    0    0    0    0    0]\n",
      " [   0    0    0    0    0    0    0    0    0    0    0    0    0    0\n",
      "     0    0    0    0    0    0]\n",
      " [   0    0    0    0    0    0    0    0    0    0    0    0    0    0\n",
      "     0    0    0    0    0    0]]\n"
     ]
    }
   ],
   "source": [
    "rows = horz_edge_array.shape[0]\n",
    "cols = horz_edge_array.shape[1]\n",
    "\n",
    "\n",
    "for i in range(1,rows-1):\n",
    "    for j in range(1,cols-1):\n",
    "        #conv_mat[i][j]=A[i-1][j-1]*sobel_vert_edge_fil[0][0]+ A[i-1][j]*sobel_vert_edge_fil[0][1]+ A[i-1][j+1]*sobel_vert_edge_fil[0][2]+A[i][j-1]*sobel_vert_edge_fil[1][0]+ A[i][j]*sobel_vert_edge_fil[1][1] + A[i][j+1]*sobel_vert_edge_fil[1][2]+A[i+1][j-1]*sobel_vert_edge_fil[2][0]+ A[i+1][j]*sobel_vert_edge_fil[2][1] + A[i+1][j+1]*sobel_vert_edge_fil[2][2]\n",
    "        conv_mat_horiz[i][j]=horz_edge_array[i-1][j-1]*sobel_horiz_edge_fil[0][0]+ horz_edge_array[i-1][j]*sobel_horiz_edge_fil[0][1]+ horz_edge_array[i-1][j+1]*sobel_horiz_edge_fil[0][2]+horz_edge_array[i][j-1]*sobel_horiz_edge_fil[1][0]+ horz_edge_array[i][j]*sobel_horiz_edge_fil[1][1] + horz_edge_array[i][j+1]*sobel_horiz_edge_fil[1][2]+horz_edge_array[i+1][j-1]*sobel_horiz_edge_fil[2][0]+ horz_edge_array[i+1][j]*sobel_horiz_edge_fil[2][1] + horz_edge_array[i+1][j+1]*sobel_horiz_edge_fil[2][2]\n",
    "\n",
    "print('Convolved array with edge filter.\\n')\n",
    "print(conv_mat_horiz)"
   ]
  },
  {
   "cell_type": "markdown",
   "metadata": {},
   "source": [
    "# ReLu on the convolved array.(Convert all negative elements 0)"
   ]
  },
  {
   "cell_type": "code",
   "execution_count": 238,
   "metadata": {},
   "outputs": [
    {
     "name": "stdout",
     "output_type": "stream",
     "text": [
      "The output of the  Rectified Linear unit(ReLu)\n"
     ]
    },
    {
     "data": {
      "text/plain": [
       "array([[  0,   0,   0,   0,   0,   0,   0,   0,   0,   0,   0,   0,   0,\n",
       "          0,   0,   0,   0,   0,   0,   0],\n",
       "       [  0,   0,   0,   0,   0,   0,   0,   0,   0,   0,   0,   0,   0,\n",
       "          0,   0,   0,   0,   0,   0,   0],\n",
       "       [  0,   0,   0,   0,   0,   0,   0,   0,   0, 199,   0,   0,   0,\n",
       "          0,   0,   0,   0,   0,   0,   0],\n",
       "       [  0,   0,   0,   0,   0,   0,   0,   0, 199, 597,   0,   0,   0,\n",
       "          0,   0,   0,   0,   0,   0,   0],\n",
       "       [  0,   0,   0,   0,   0,   0,   0, 199, 597, 597,   0,   0,   0,\n",
       "          0,   0,   0,   0,   0,   0,   0],\n",
       "       [  0,   0,   0,   0,   0,   0, 199, 597, 597, 199,   0,   0,   0,\n",
       "          0,   0,   0,   0,   0,   0,   0],\n",
       "       [  0,   0,   0,   0,   0,   0, 398, 597, 398, 199,   0,   0,   0,\n",
       "          0,   0,   0,   0,   0,   0,   0],\n",
       "       [  0,   0,   0,   0,   0,   0, 199, 199, 597, 597,   0,   0,   0,\n",
       "          0,   0,   0,   0,   0,   0,   0],\n",
       "       [  0,   0,   0,   0,   0,   0,   0,   0, 796, 796,   0,   0,   0,\n",
       "          0,   0,   0,   0,   0,   0,   0],\n",
       "       [  0,   0,   0,   0,   0,   0,   0,   0, 796, 796,   0,   0,   0,\n",
       "          0,   0,   0,   0,   0,   0,   0],\n",
       "       [  0,   0,   0,   0,   0,   0,   0,   0, 796, 796,   0,   0,   0,\n",
       "          0,   0,   0,   0,   0,   0,   0],\n",
       "       [  0,   0,   0,   0,   0,   0,   0,   0, 796, 796,   0,   0,   0,\n",
       "          0,   0,   0,   0,   0,   0,   0],\n",
       "       [  0,   0,   0,   0,   0,   0,   0,   0, 796, 796,   0,   0,   0,\n",
       "          0,   0,   0,   0,   0,   0,   0],\n",
       "       [  0,   0,   0,   0,   0,   0,   0,   0, 796, 796,   0,   0,   0,\n",
       "          0,   0,   0,   0,   0,   0,   0],\n",
       "       [  0,   0,   0,   0,   0,   0,   0,   0, 796, 796,   0,   0,   0,\n",
       "          0,   0,   0,   0,   0,   0,   0],\n",
       "       [  0,   0,   0,   0,   0,   0,   0,   0, 796, 796,   0,   0,   0,\n",
       "          0,   0,   0,   0,   0,   0,   0],\n",
       "       [  0,   0,   0,   0,   0,   0,   0,   0, 597, 597,   0,   0,   0,\n",
       "          0,   0,   0,   0,   0,   0,   0],\n",
       "       [  0,   0,   0,   0,   0,   0,   0,   0, 199, 199,   0,   0,   0,\n",
       "          0,   0,   0,   0,   0,   0,   0],\n",
       "       [  0,   0,   0,   0,   0,   0,   0,   0,   0,   0,   0,   0,   0,\n",
       "          0,   0,   0,   0,   0,   0,   0],\n",
       "       [  0,   0,   0,   0,   0,   0,   0,   0,   0,   0,   0,   0,   0,\n",
       "          0,   0,   0,   0,   0,   0,   0]])"
      ]
     },
     "execution_count": 238,
     "metadata": {},
     "output_type": "execute_result"
    }
   ],
   "source": [
    "relu_mat=np.maximum(conv_mat_horiz, 0)\n",
    "\n",
    "print('The output of the  Rectified Linear unit(ReLu)')\n",
    "relu_mat\n"
   ]
  },
  {
   "cell_type": "markdown",
   "metadata": {},
   "source": [
    "# Max pooling"
   ]
  },
  {
   "cell_type": "code",
   "execution_count": 239,
   "metadata": {},
   "outputs": [
    {
     "name": "stdout",
     "output_type": "stream",
     "text": [
      "The output of the Max Pooling on ReLu output array\n"
     ]
    },
    {
     "data": {
      "text/plain": [
       "array([[  0,   0,   0,   0,   0,   0,   0,   0,   0,   0],\n",
       "       [  0,   0,   0,   0, 597,   0,   0,   0,   0,   0],\n",
       "       [  0,   0,   0, 597, 597,   0,   0,   0,   0,   0],\n",
       "       [  0,   0,   0, 597, 597,   0,   0,   0,   0,   0],\n",
       "       [  0,   0,   0,   0, 796,   0,   0,   0,   0,   0],\n",
       "       [  0,   0,   0,   0, 796,   0,   0,   0,   0,   0],\n",
       "       [  0,   0,   0,   0, 796,   0,   0,   0,   0,   0],\n",
       "       [  0,   0,   0,   0, 796,   0,   0,   0,   0,   0],\n",
       "       [  0,   0,   0,   0, 597,   0,   0,   0,   0,   0],\n",
       "       [  0,   0,   0,   0,   0,   0,   0,   0,   0,   0]])"
      ]
     },
     "execution_count": 239,
     "metadata": {},
     "output_type": "execute_result"
    }
   ],
   "source": [
    "M, N = relu_mat.shape\n",
    "K = 2\n",
    "L = 2\n",
    "\n",
    "MK = M // K\n",
    "NL = N // L\n",
    "\n",
    "max_pooled_mat= relu_mat[:MK * K, :NL * L].reshape(MK, K, NL, L).max(axis=(1, 3))\n",
    "\n",
    "print('The output of the Max Pooling on ReLu output array')\n",
    "max_pooled_mat\n"
   ]
  },
  {
   "cell_type": "markdown",
   "metadata": {},
   "source": [
    "# Flattening of the the feature map"
   ]
  },
  {
   "cell_type": "code",
   "execution_count": 240,
   "metadata": {},
   "outputs": [
    {
     "name": "stdout",
     "output_type": "stream",
     "text": [
      "The output of the flattening layer\n"
     ]
    },
    {
     "data": {
      "text/plain": [
       "array([[  0,   0,   0,   0,   0,   0,   0,   0,   0,   0,   0,   0,   0,\n",
       "          0, 597,   0,   0,   0,   0,   0,   0,   0,   0, 597, 597,   0,\n",
       "          0,   0,   0,   0,   0,   0,   0, 597, 597,   0,   0,   0,   0,\n",
       "          0,   0,   0,   0,   0, 796,   0,   0,   0,   0,   0,   0,   0,\n",
       "          0,   0, 796,   0,   0,   0,   0,   0,   0,   0,   0,   0, 796,\n",
       "          0,   0,   0,   0,   0,   0,   0,   0,   0, 796,   0,   0,   0,\n",
       "          0,   0,   0,   0,   0,   0, 597,   0,   0,   0,   0,   0,   0,\n",
       "          0,   0,   0,   0,   0,   0,   0,   0,   0]])"
      ]
     },
     "execution_count": 240,
     "metadata": {},
     "output_type": "execute_result"
    }
   ],
   "source": [
    "rows,columns=max_pooled_mat.shape\n",
    "siz=rows*columns\n",
    "CNN_one_layer=max_pooled_mat.reshape(1,siz)\n",
    "\n",
    "print('The output of the flattening layer')\n",
    "CNN_one_layer"
   ]
  },
  {
   "cell_type": "code",
   "execution_count": null,
   "metadata": {},
   "outputs": [],
   "source": []
  }
 ],
 "metadata": {
  "kernelspec": {
   "display_name": "Python 3",
   "language": "python",
   "name": "python3"
  },
  "language_info": {
   "codemirror_mode": {
    "name": "ipython",
    "version": 3
   },
   "file_extension": ".py",
   "mimetype": "text/x-python",
   "name": "python",
   "nbconvert_exporter": "python",
   "pygments_lexer": "ipython3",
   "version": "3.7.4"
  }
 },
 "nbformat": 4,
 "nbformat_minor": 2
}
